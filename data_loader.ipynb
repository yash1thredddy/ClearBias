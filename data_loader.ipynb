{
  "nbformat": 4,
  "nbformat_minor": 0,
  "metadata": {
    "colab": {
      "provenance": []
    },
    "kernelspec": {
      "name": "python3",
      "display_name": "Python 3"
    },
    "language_info": {
      "name": "python"
    }
  },
  "cells": [
    {
      "cell_type": "code",
      "source": [
        "!pip install --upgrade huggingface_hub datasets"
      ],
      "metadata": {
        "collapsed": true,
        "id": "KuGtQnMo826-"
      },
      "execution_count": null,
      "outputs": []
    },
    {
      "cell_type": "code",
      "execution_count": null,
      "metadata": {
        "id": "2EwLmmFh8z3A"
      },
      "outputs": [],
      "source": [
        "import os\n",
        "from datasets import load_dataset\n",
        "\n",
        "REPO_NAME = \"RCantini/CLEAR-Bias\"\n",
        "OUTPUT_FOLDER = \"CLEAR-Bias\"\n",
        "\n",
        "def download_configs_as_csv(repo_name, output_folder):\n",
        "    os.makedirs(output_folder, exist_ok=True)\n",
        "    configs = ['base_prompts', 'control_set', 'jailbreak_prompts']\n",
        "\n",
        "    for config in configs:\n",
        "        print(f\"Starting download and conversion for config: {config}\")\n",
        "        try:\n",
        "            dataset = load_dataset(repo_name, name=config)\n",
        "            df = dataset[\"train\"].to_pandas()\n",
        "            print(f\"Loaded dataset '{config}' with {len(df)} records\")\n",
        "\n",
        "            config_out_path = os.path.join(output_folder, config)\n",
        "            os.makedirs(config_out_path, exist_ok=True)\n",
        "\n",
        "            match config:\n",
        "                case 'base_prompts':\n",
        "                    load_base_prompts(df, config_out_path)\n",
        "                case 'control_set':\n",
        "                    load_control_set(df, config_out_path)\n",
        "                case 'jailbreak_prompts':\n",
        "                    load_jailbreak_prompts(df, config_out_path)\n",
        "\n",
        "            print(f\"Successfully processed config: {config}\\n\")\n",
        "        except Exception as e:\n",
        "            print(f\"Error downloading or converting the config '{config}': {e}\")\n",
        "\n",
        "\n",
        "def load_control_set(df, out_path):\n",
        "    print(\"Processing control set...\")\n",
        "    for task, group in df.groupby('TASK'):\n",
        "        file_path = os.path.join(out_path, f'control_set_{task}.csv')\n",
        "        group.drop(columns='TASK').to_csv(file_path, index=False)\n",
        "        print(f\"Saved file: {file_path}\")\n",
        "\n",
        "\n",
        "def load_base_prompts(df, out_path):\n",
        "    print(\"Processing base prompts...\")\n",
        "    print(df['BIAS CATEGORY'].unique())\n",
        "    for task, group in df.groupby('TASK'):\n",
        "        file_path = os.path.join(out_path, f'base_prompts_{task}.csv')\n",
        "        group.drop(columns='TASK').to_csv(file_path, index=False)\n",
        "        print(f\"Saved file: {file_path}\")\n",
        "\n",
        "\n",
        "def load_jailbreak_prompts(df, out_path):\n",
        "    print(\"Processing jailbreak prompts...\")\n",
        "    cols = ['TASK', 'ATTACK', 'VARIANT']\n",
        "    task_dirs = {\n",
        "        'SC': 'sentence_completion',\n",
        "        'CTO': 'choose_the_option'\n",
        "    }\n",
        "    for (task, attack, variant), group in df.groupby(cols):\n",
        "        attack = attack.replace(' ', '_').lower()\n",
        "        file_name = f\"{attack}_{variant}_{task}.csv\"\n",
        "\n",
        "        base_dir = os.path.join(out_path, task_dirs.get(task))\n",
        "        os.makedirs(base_dir, exist_ok=True)\n",
        "\n",
        "        attack_path = os.path.join(base_dir, attack)\n",
        "        os.makedirs(attack_path, exist_ok=True)\n",
        "\n",
        "        file_path = os.path.join(attack_path, file_name)\n",
        "        group.drop(columns=cols).to_csv(file_path, index=False)\n",
        "        print(f\"Saved file: {file_path}\")\n",
        "\n",
        "\n",
        "download_configs_as_csv(REPO_NAME, OUTPUT_FOLDER)"
      ]
    }
  ]
}