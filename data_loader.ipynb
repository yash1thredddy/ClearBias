{
 "cells": [
  {
   "cell_type": "code",
   "execution_count": null,
   "metadata": {
    "collapsed": true,
    "id": "KuGtQnMo826-",
    "jupyter": {
     "outputs_hidden": true
    }
   },
   "outputs": [],
   "source": [
    "!pip install --upgrade huggingface_hub datasets"
   ]
  },
  {
   "cell_type": "code",
   "execution_count": 1,
   "metadata": {
    "id": "2EwLmmFh8z3A"
   },
   "outputs": [
    {
     "name": "stdout",
     "output_type": "stream",
     "text": [
      "Starting download and conversion for config: base_prompts\n"
     ]
    },
    {
     "data": {
      "application/vnd.jupyter.widget-view+json": {
       "model_id": "6093d8622db54137b32545b81ef8e961",
       "version_major": 2,
       "version_minor": 0
      },
      "text/plain": [
       "README.md:   0%|          | 0.00/4.09k [00:00<?, ?B/s]"
      ]
     },
     "metadata": {},
     "output_type": "display_data"
    },
    {
     "name": "stderr",
     "output_type": "stream",
     "text": [
      "C:\\Users\\yashw\\Desktop\\CS516\\516\\Lib\\site-packages\\huggingface_hub\\file_download.py:144: UserWarning: `huggingface_hub` cache-system uses symlinks by default to efficiently store duplicated files but your machine does not support them in C:\\Users\\yashw\\.cache\\huggingface\\hub\\datasets--RCantini--CLEAR-Bias. Caching files will still work but in a degraded version that might require more space on your disk. This warning can be disabled by setting the `HF_HUB_DISABLE_SYMLINKS_WARNING` environment variable. For more details, see https://huggingface.co/docs/huggingface_hub/how-to-cache#limitations.\n",
      "To support symlinks on Windows, you either need to activate Developer Mode or to run Python as an administrator. In order to activate developer mode, see this article: https://docs.microsoft.com/en-us/windows/apps/get-started/enable-your-device-for-development\n",
      "  warnings.warn(message)\n"
     ]
    },
    {
     "data": {
      "application/vnd.jupyter.widget-view+json": {
       "model_id": "7e38b071b5ba4cc281d4c1922b00049b",
       "version_major": 2,
       "version_minor": 0
      },
      "text/plain": [
       "train-00000-of-00001.parquet:   0%|          | 0.00/22.6k [00:00<?, ?B/s]"
      ]
     },
     "metadata": {},
     "output_type": "display_data"
    },
    {
     "data": {
      "application/vnd.jupyter.widget-view+json": {
       "model_id": "ca81263d29dc403cbf02be73f2e9a3f5",
       "version_major": 2,
       "version_minor": 0
      },
      "text/plain": [
       "Generating train split:   0%|          | 0/200 [00:00<?, ? examples/s]"
      ]
     },
     "metadata": {},
     "output_type": "display_data"
    },
    {
     "name": "stdout",
     "output_type": "stream",
     "text": [
      "Loaded dataset 'base_prompts' with 200 records\n",
      "Processing base prompts...\n",
      "['ETHNICITY' 'SEXUAL ORIENTATION' 'GENDER' 'RELIGION' 'AGE'\n",
      " 'SOCIO ECONOMICS' 'DISABILITY' 'GENDER - ETHNICITY'\n",
      " 'GENDER - SEXUAL ORIENTATION' 'ETHNICITY - SOCIO ECONOMICS']\n",
      "Saved file: CLEAR-Bias\\base_prompts\\base_prompts_CTO.csv\n",
      "Saved file: CLEAR-Bias\\base_prompts\\base_prompts_SC.csv\n",
      "Successfully processed config: base_prompts\n",
      "\n",
      "Starting download and conversion for config: control_set\n"
     ]
    },
    {
     "data": {
      "application/vnd.jupyter.widget-view+json": {
       "model_id": "b0a8a9f56cd74c8b9063000324f21583",
       "version_major": 2,
       "version_minor": 0
      },
      "text/plain": [
       "train-00000-of-00001.parquet:   0%|          | 0.00/36.5k [00:00<?, ?B/s]"
      ]
     },
     "metadata": {},
     "output_type": "display_data"
    },
    {
     "data": {
      "application/vnd.jupyter.widget-view+json": {
       "model_id": "0a234ada472d48f5b0f4e82bf63fabf2",
       "version_major": 2,
       "version_minor": 0
      },
      "text/plain": [
       "Generating train split:   0%|          | 0/800 [00:00<?, ? examples/s]"
      ]
     },
     "metadata": {},
     "output_type": "display_data"
    },
    {
     "name": "stdout",
     "output_type": "stream",
     "text": [
      "Loaded dataset 'control_set' with 800 records\n",
      "Processing control set...\n",
      "Saved file: CLEAR-Bias\\control_set\\control_set_CTO.csv\n",
      "Saved file: CLEAR-Bias\\control_set\\control_set_SC.csv\n",
      "Successfully processed config: control_set\n",
      "\n",
      "Starting download and conversion for config: jailbreak_prompts\n"
     ]
    },
    {
     "data": {
      "application/vnd.jupyter.widget-view+json": {
       "model_id": "385c5264581c4f94992c1daa894654dd",
       "version_major": 2,
       "version_minor": 0
      },
      "text/plain": [
       "train-00000-of-00001.parquet:   0%|          | 0.00/487k [00:00<?, ?B/s]"
      ]
     },
     "metadata": {},
     "output_type": "display_data"
    },
    {
     "data": {
      "application/vnd.jupyter.widget-view+json": {
       "model_id": "d0f64d569ffa48218423a55b508202af",
       "version_major": 2,
       "version_minor": 0
      },
      "text/plain": [
       "Generating train split:   0%|          | 0/4200 [00:00<?, ? examples/s]"
      ]
     },
     "metadata": {},
     "output_type": "display_data"
    },
    {
     "name": "stdout",
     "output_type": "stream",
     "text": [
      "Loaded dataset 'jailbreak_prompts' with 4200 records\n",
      "Processing jailbreak prompts...\n",
      "Saved file: CLEAR-Bias\\jailbreak_prompts\\choose_the_option\\machine_translation\\machine_translation_v1_CTO.csv\n",
      "Saved file: CLEAR-Bias\\jailbreak_prompts\\choose_the_option\\machine_translation\\machine_translation_v2_CTO.csv\n",
      "Saved file: CLEAR-Bias\\jailbreak_prompts\\choose_the_option\\machine_translation\\machine_translation_v3_CTO.csv\n",
      "Saved file: CLEAR-Bias\\jailbreak_prompts\\choose_the_option\\obfuscation\\obfuscation_v1_CTO.csv\n",
      "Saved file: CLEAR-Bias\\jailbreak_prompts\\choose_the_option\\obfuscation\\obfuscation_v2_CTO.csv\n",
      "Saved file: CLEAR-Bias\\jailbreak_prompts\\choose_the_option\\obfuscation\\obfuscation_v3_CTO.csv\n",
      "Saved file: CLEAR-Bias\\jailbreak_prompts\\choose_the_option\\prefix_injection\\prefix_injection_v1_CTO.csv\n",
      "Saved file: CLEAR-Bias\\jailbreak_prompts\\choose_the_option\\prefix_injection\\prefix_injection_v2_CTO.csv\n",
      "Saved file: CLEAR-Bias\\jailbreak_prompts\\choose_the_option\\prefix_injection\\prefix_injection_v3_CTO.csv\n",
      "Saved file: CLEAR-Bias\\jailbreak_prompts\\choose_the_option\\prompt_injection\\prompt_injection_v1_CTO.csv\n",
      "Saved file: CLEAR-Bias\\jailbreak_prompts\\choose_the_option\\prompt_injection\\prompt_injection_v2_CTO.csv\n",
      "Saved file: CLEAR-Bias\\jailbreak_prompts\\choose_the_option\\prompt_injection\\prompt_injection_v3_CTO.csv\n",
      "Saved file: CLEAR-Bias\\jailbreak_prompts\\choose_the_option\\refusal_suppression\\refusal_suppression_v1_CTO.csv\n",
      "Saved file: CLEAR-Bias\\jailbreak_prompts\\choose_the_option\\refusal_suppression\\refusal_suppression_v2_CTO.csv\n",
      "Saved file: CLEAR-Bias\\jailbreak_prompts\\choose_the_option\\refusal_suppression\\refusal_suppression_v3_CTO.csv\n",
      "Saved file: CLEAR-Bias\\jailbreak_prompts\\choose_the_option\\reward_incentive\\reward_incentive_v1_CTO.csv\n",
      "Saved file: CLEAR-Bias\\jailbreak_prompts\\choose_the_option\\reward_incentive\\reward_incentive_v2_CTO.csv\n",
      "Saved file: CLEAR-Bias\\jailbreak_prompts\\choose_the_option\\reward_incentive\\reward_incentive_v3_CTO.csv\n",
      "Saved file: CLEAR-Bias\\jailbreak_prompts\\choose_the_option\\role_playing\\role_playing_v1_CTO.csv\n",
      "Saved file: CLEAR-Bias\\jailbreak_prompts\\choose_the_option\\role_playing\\role_playing_v2_CTO.csv\n",
      "Saved file: CLEAR-Bias\\jailbreak_prompts\\choose_the_option\\role_playing\\role_playing_v3_CTO.csv\n",
      "Saved file: CLEAR-Bias\\jailbreak_prompts\\sentence_completion\\machine_translation\\machine_translation_v1_SC.csv\n",
      "Saved file: CLEAR-Bias\\jailbreak_prompts\\sentence_completion\\machine_translation\\machine_translation_v2_SC.csv\n",
      "Saved file: CLEAR-Bias\\jailbreak_prompts\\sentence_completion\\machine_translation\\machine_translation_v3_SC.csv\n",
      "Saved file: CLEAR-Bias\\jailbreak_prompts\\sentence_completion\\obfuscation\\obfuscation_v1_SC.csv\n",
      "Saved file: CLEAR-Bias\\jailbreak_prompts\\sentence_completion\\obfuscation\\obfuscation_v2_SC.csv\n",
      "Saved file: CLEAR-Bias\\jailbreak_prompts\\sentence_completion\\obfuscation\\obfuscation_v3_SC.csv\n",
      "Saved file: CLEAR-Bias\\jailbreak_prompts\\sentence_completion\\prefix_injection\\prefix_injection_v1_SC.csv\n",
      "Saved file: CLEAR-Bias\\jailbreak_prompts\\sentence_completion\\prefix_injection\\prefix_injection_v2_SC.csv\n",
      "Saved file: CLEAR-Bias\\jailbreak_prompts\\sentence_completion\\prefix_injection\\prefix_injection_v3_SC.csv\n",
      "Saved file: CLEAR-Bias\\jailbreak_prompts\\sentence_completion\\prompt_injection\\prompt_injection_v1_SC.csv\n",
      "Saved file: CLEAR-Bias\\jailbreak_prompts\\sentence_completion\\prompt_injection\\prompt_injection_v2_SC.csv\n",
      "Saved file: CLEAR-Bias\\jailbreak_prompts\\sentence_completion\\prompt_injection\\prompt_injection_v3_SC.csv\n",
      "Saved file: CLEAR-Bias\\jailbreak_prompts\\sentence_completion\\refusal_suppression\\refusal_suppression_v1_SC.csv\n",
      "Saved file: CLEAR-Bias\\jailbreak_prompts\\sentence_completion\\refusal_suppression\\refusal_suppression_v2_SC.csv\n",
      "Saved file: CLEAR-Bias\\jailbreak_prompts\\sentence_completion\\refusal_suppression\\refusal_suppression_v3_SC.csv\n",
      "Saved file: CLEAR-Bias\\jailbreak_prompts\\sentence_completion\\reward_incentive\\reward_incentive_v1_SC.csv\n",
      "Saved file: CLEAR-Bias\\jailbreak_prompts\\sentence_completion\\reward_incentive\\reward_incentive_v2_SC.csv\n",
      "Saved file: CLEAR-Bias\\jailbreak_prompts\\sentence_completion\\reward_incentive\\reward_incentive_v3_SC.csv\n",
      "Saved file: CLEAR-Bias\\jailbreak_prompts\\sentence_completion\\role_playing\\role_playing_v1_SC.csv\n",
      "Saved file: CLEAR-Bias\\jailbreak_prompts\\sentence_completion\\role_playing\\role_playing_v2_SC.csv\n",
      "Saved file: CLEAR-Bias\\jailbreak_prompts\\sentence_completion\\role_playing\\role_playing_v3_SC.csv\n",
      "Successfully processed config: jailbreak_prompts\n",
      "\n"
     ]
    }
   ],
   "source": [
    "import os\n",
    "from datasets import load_dataset\n",
    "\n",
    "REPO_NAME = \"RCantini/CLEAR-Bias\"\n",
    "OUTPUT_FOLDER = \"CLEAR-Bias\"\n",
    "\n",
    "def download_configs_as_csv(repo_name, output_folder):\n",
    "    os.makedirs(output_folder, exist_ok=True)\n",
    "    configs = ['base_prompts', 'control_set', 'jailbreak_prompts']\n",
    "\n",
    "    for config in configs:\n",
    "        print(f\"Starting download and conversion for config: {config}\")\n",
    "        try:\n",
    "            dataset = load_dataset(repo_name, name=config)\n",
    "            df = dataset[\"train\"].to_pandas()\n",
    "            print(f\"Loaded dataset '{config}' with {len(df)} records\")\n",
    "\n",
    "            config_out_path = os.path.join(output_folder, config)\n",
    "            os.makedirs(config_out_path, exist_ok=True)\n",
    "\n",
    "            match config:\n",
    "                case 'base_prompts':\n",
    "                    load_base_prompts(df, config_out_path)\n",
    "                case 'control_set':\n",
    "                    load_control_set(df, config_out_path)\n",
    "                case 'jailbreak_prompts':\n",
    "                    load_jailbreak_prompts(df, config_out_path)\n",
    "\n",
    "            print(f\"Successfully processed config: {config}\\n\")\n",
    "        except Exception as e:\n",
    "            print(f\"Error downloading or converting the config '{config}': {e}\")\n",
    "\n",
    "\n",
    "def load_control_set(df, out_path):\n",
    "    print(\"Processing control set...\")\n",
    "    for task, group in df.groupby('TASK'):\n",
    "        file_path = os.path.join(out_path, f'control_set_{task}.csv')\n",
    "        group.drop(columns='TASK').to_csv(file_path, index=False)\n",
    "        print(f\"Saved file: {file_path}\")\n",
    "\n",
    "\n",
    "def load_base_prompts(df, out_path):\n",
    "    print(\"Processing base prompts...\")\n",
    "    print(df['BIAS CATEGORY'].unique())\n",
    "    for task, group in df.groupby('TASK'):\n",
    "        file_path = os.path.join(out_path, f'base_prompts_{task}.csv')\n",
    "        group.drop(columns='TASK').to_csv(file_path, index=False)\n",
    "        print(f\"Saved file: {file_path}\")\n",
    "\n",
    "\n",
    "def load_jailbreak_prompts(df, out_path):\n",
    "    print(\"Processing jailbreak prompts...\")\n",
    "    cols = ['TASK', 'ATTACK', 'VARIANT']\n",
    "    task_dirs = {\n",
    "        'SC': 'sentence_completion',\n",
    "        'CTO': 'choose_the_option'\n",
    "    }\n",
    "    for (task, attack, variant), group in df.groupby(cols):\n",
    "        attack = attack.replace(' ', '_').lower()\n",
    "        file_name = f\"{attack}_{variant}_{task}.csv\"\n",
    "\n",
    "        base_dir = os.path.join(out_path, task_dirs.get(task))\n",
    "        os.makedirs(base_dir, exist_ok=True)\n",
    "\n",
    "        attack_path = os.path.join(base_dir, attack)\n",
    "        os.makedirs(attack_path, exist_ok=True)\n",
    "\n",
    "        file_path = os.path.join(attack_path, file_name)\n",
    "        group.drop(columns=cols).to_csv(file_path, index=False)\n",
    "        print(f\"Saved file: {file_path}\")\n",
    "\n",
    "\n",
    "download_configs_as_csv(REPO_NAME, OUTPUT_FOLDER)"
   ]
  },
  {
   "cell_type": "code",
   "execution_count": null,
   "metadata": {},
   "outputs": [],
   "source": []
  }
 ],
 "metadata": {
  "colab": {
   "provenance": []
  },
  "kernelspec": {
   "display_name": "Python 3 (ipykernel)",
   "language": "python",
   "name": "python3"
  },
  "language_info": {
   "codemirror_mode": {
    "name": "ipython",
    "version": 3
   },
   "file_extension": ".py",
   "mimetype": "text/x-python",
   "name": "python",
   "nbconvert_exporter": "python",
   "pygments_lexer": "ipython3",
   "version": "3.12.6"
  }
 },
 "nbformat": 4,
 "nbformat_minor": 4
}
